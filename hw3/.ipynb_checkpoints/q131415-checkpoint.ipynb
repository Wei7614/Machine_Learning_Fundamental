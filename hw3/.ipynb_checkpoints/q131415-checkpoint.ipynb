{
 "cells": [
  {
   "cell_type": "code",
   "execution_count": 1,
   "metadata": {},
   "outputs": [],
   "source": [
    "import numpy as np\n",
    "import random\n"
   ]
  },
  {
   "cell_type": "code",
   "execution_count": 2,
   "metadata": {
    "pycharm": {
     "name": "#%%\n"
    }
   },
   "outputs": [],
   "source": [
    "def sign(x):\n",
    "    r = np.ones(x.shape)\n",
    "    for idx, value in enumerate(x):\n",
    "        r[idx] = (-1 if value < 0 else 1)\n",
    "    return r\n",
    "\n",
    "def get_noise_y(y):\n",
    "    for idx, value in enumerate(y):\n",
    "        random_value = random.uniform(0,1)\n",
    "        y[idx] = (value * -1 if random_value < 0.1 else value)\n",
    "    return y\n",
    "\n",
    "def gen_data(data_size=1000, is_transform=False):\n",
    "    x = np.random.uniform(-1, 1, size=(data_size, 2))\n",
    "    f = sign(x[:, 0:1] * x[:, 0:1] + x[:, 1:2] * x[:, 1:2] - 0.6)\n",
    "    y = get_noise_y(f)\n",
    "    x_turple = (np.ones((x.shape[0],1)), x[:, 0:1], x[:, 1:2])\n",
    "    if is_transform:\n",
    "       x_turple = (np.ones((x.shape[0],1)), x[:, 0:1], x[:, 1:2], x[:, 0:1] * x[:, 1:2],\n",
    "                   x[:, 0:1] * x[:, 0:1], x[:, 1:2] * x[:, 1:2]) \n",
    "    x = np.hstack(x_turple)\n",
    "    return x, y"
   ]
  },
  {
   "cell_type": "code",
   "execution_count": 3,
   "metadata": {
    "pycharm": {
     "name": "#%%\n"
    }
   },
   "outputs": [
    {
     "name": "stdout",
     "output_type": "stream",
     "text": [
      "0.5039620000000005\n",
      "[[-9.92906924e-01]\n",
      " [ 2.30708127e-03]\n",
      " [ 2.16359137e-04]\n",
      " [ 1.79531100e-03]\n",
      " [ 1.55858194e+00]\n",
      " [ 1.55801602e+00]]\n",
      "0.12386500000000011\n"
     ]
    }
   ],
   "source": [
    "exp_times = 1000\n",
    "e_in_q13 = 0\n",
    "e_out_q15 = 0\n",
    "w_lin_q14 = None\n",
    "for exp_time in range(exp_times):\n",
    "    e_in = 0\n",
    "    data_size = 1000\n",
    "    X, y = gen_data(data_size)\n",
    "    # linear regression\n",
    "    # w_lin = (((X_tran * X)_inver) * X_tran) * y =  pseudo-inverse * y\n",
    "    # 直接用numpy 找pseudo-inverse\n",
    "    X_pseudo = np.linalg.pinv(X)\n",
    "    w_lin = np.dot(X_pseudo , y)  \n",
    "    # 拿w_lin來預測看e_in\n",
    "    y_hat = np.dot(X, w_lin)\n",
    "    y_diff = sign(y_hat) - y\n",
    "    e_in_q13 += (np.sum(np.absolute(y_diff)))/(2.0 * y_diff.shape[0])\n",
    "    \n",
    "    X_trans, y_trans = gen_data(data_size, True)\n",
    "    w_lin_tran = np.dot(np.linalg.pinv(X_trans), y_trans)\n",
    "    if w_lin_q14 is None:\n",
    "        w_lin_q14 = w_lin_tran\n",
    "    else:\n",
    "        w_lin_q14 += w_lin_tran\n",
    "    \n",
    "    y_hat_tran = np.dot(X_trans, w_lin_tran)\n",
    "    y_diff_tran = sign(y_hat_tran) - y_trans\n",
    "    e_out_q15 += (np.sum(np.absolute(y_diff_tran)))/(2.0 * y_diff_tran.shape[0])\n",
    "\n",
    "# q13的答案 \n",
    "print(e_in_q13/exp_times)\n",
    "    \n",
    "# q14的答案\n",
    "print(w_lin_q14/exp_times)\n",
    "\n",
    "# q15的答案\n",
    "print(e_out_q15/exp_times)\n",
    "\n",
    "\n"
   ]
  },
  {
   "cell_type": "code",
   "execution_count": null,
   "metadata": {},
   "outputs": [],
   "source": []
  }
 ],
 "metadata": {
  "kernelspec": {
   "display_name": "Python 3",
   "language": "python",
   "name": "python3"
  },
  "language_info": {
   "codemirror_mode": {
    "name": "ipython",
    "version": 3
   },
   "file_extension": ".py",
   "mimetype": "text/x-python",
   "name": "python",
   "nbconvert_exporter": "python",
   "pygments_lexer": "ipython3",
   "version": "3.9.2"
  }
 },
 "nbformat": 4,
 "nbformat_minor": 1
}
