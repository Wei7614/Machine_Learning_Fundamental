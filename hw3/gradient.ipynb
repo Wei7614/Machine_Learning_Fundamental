{
 "cells": [
  {
   "cell_type": "code",
   "execution_count": 1,
   "metadata": {},
   "outputs": [],
   "source": [
    "import math\n",
    "import numpy as np\n",
    "\n",
    "def e(mu, nu):\n",
    "    return math.exp(mu) + math.exp(2. * nu) + math.exp(mu * nu) + mu ** 2 - 2. * nu * mu + 2. * nu ** 2 - 3. * mu - 2. * nu\n",
    "\n",
    "\n",
    "def gredient_e(mu, nu):\n",
    "    vector_mu = (math.exp(mu) + nu * math.exp(mu * nu) + 2. * mu - 2. * nu - 3)\n",
    "    vector_nu = (2. * math.exp(2.*nu) + mu * math.exp(nu * mu) - 2. * mu + 4. * nu - 2)\n",
    "    return (vector_mu, vector_nu)"
   ]
  },
  {
   "cell_type": "code",
   "execution_count": 2,
   "metadata": {},
   "outputs": [],
   "source": [
    "def recursive(input_mu, input_nu, times, time_limit=5):\n",
    "    mu = input_mu\n",
    "    nu = input_nu\n",
    "    if times < time_limit:\n",
    "        (input_mu, input_nu) = gredient_e(input_mu, input_nu)\n",
    "        (mu, nu) = (mu - 0.01 * input_mu, nu - 0.01 * input_nu)\n",
    "        return recursive(mu, nu, times + 1, time_limit)\n",
    "    else:\n",
    "        return (mu, nu)"
   ]
  },
  {
   "cell_type": "code",
   "execution_count": 3,
   "metadata": {
    "pycharm": {
     "name": "#%%\n"
    }
   },
   "outputs": [
    {
     "name": "stdout",
     "output_type": "stream",
     "text": [
      "2.8250003566832635\n"
     ]
    }
   ],
   "source": [
    "(mu, nu) = recursive(0., 0., 0)\n",
    "print(e(mu, nu))\n",
    "\n"
   ]
  },
  {
   "cell_type": "code",
   "execution_count": 4,
   "metadata": {
    "pycharm": {
     "name": "#%%\n"
    }
   },
   "outputs": [
    {
     "data": {
      "text/plain": [
       "(-2.0, 0.0)"
      ]
     },
     "execution_count": 4,
     "metadata": {},
     "output_type": "execute_result"
    }
   ],
   "source": [
    "gredient_e(0,0)\n"
   ]
  },
  {
   "cell_type": "code",
   "execution_count": null,
   "outputs": [],
   "source": [],
   "metadata": {
    "collapsed": false,
    "pycharm": {
     "name": "#%%\n"
    }
   }
  },
  {
   "cell_type": "code",
   "execution_count": null,
   "metadata": {},
   "outputs": [],
   "source": []
  }
 ],
 "metadata": {
  "kernelspec": {
   "display_name": "Python 3",
   "language": "python",
   "name": "python3"
  },
  "language_info": {
   "codemirror_mode": {
    "name": "ipython",
    "version": 3
   },
   "file_extension": ".py",
   "mimetype": "text/x-python",
   "name": "python",
   "nbconvert_exporter": "python",
   "pygments_lexer": "ipython3",
   "version": "3.9.2"
  }
 },
 "nbformat": 4,
 "nbformat_minor": 1
}