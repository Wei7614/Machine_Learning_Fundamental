{
 "cells": [
  {
   "cell_type": "code",
   "execution_count": 9,
   "metadata": {},
   "outputs": [
    {
     "name": "stdout",
     "output_type": "stream",
     "text": [
      "[[ 0.57548   0.53938   0.72311  ...  0.35514   0.39439   1.      ]\n",
      " [ 0.70727   0.88503   0.62762  ...  0.68854   0.077076  1.      ]\n",
      " [ 0.24443   0.27331   0.58282  ...  0.93579   0.69411   1.      ]\n",
      " ...\n",
      " [ 0.18265   0.021352  0.82314  ...  0.99831   0.13292   1.      ]\n",
      " [ 0.27829   0.66993   0.3604   ...  0.76995   0.93146  -1.      ]\n",
      " [ 0.9796    0.47349   0.74238  ...  0.24958   0.46893  -1.      ]] (1000, 21)\n"
     ]
    }
   ],
   "source": [
    "import numpy as np\n",
    "import random\n",
    "import math\n",
    "\n",
    "\n",
    "train_data = np.loadtxt('././hw3_train.dat.txt')\n",
    "test_data = np.loadtxt('././hw3_test.dat.txt')\n",
    "print(train_data, train_data.shape)\n",
    "\n"
   ]
  },
  {
   "cell_type": "code",
   "execution_count": 10,
   "metadata": {},
   "outputs": [],
   "source": [
    "def get_datas(source):\n",
    "    X = source[:,0:source.shape[1]-1]\n",
    "    y = source[:, source.shape[1] - 1 : source.shape[1]]\n",
    "    return X,y\n",
    "    \n",
    "X_train, y_train = get_datas(train_data)\n",
    "X_test,  y_test = get_datas(test_data)"
   ]
  },
  {
   "cell_type": "code",
   "execution_count": 11,
   "metadata": {},
   "outputs": [],
   "source": [
    "def sigmod(x):\n",
    "    return 1./(1. + np.exp(-x))\n",
    "\n",
    "# gradient e_in = 1/N sum(sigmod(s)*(-y*x)) where s = -y * w . x\n",
    "def gradient_descent(x, y, w):\n",
    "    gradient = 0\n",
    "    for row in range(x.shape[0]):\n",
    "        s = -y[[row,]] * np.dot(np.transpose(w), np.transpose(x[[row,]]))\n",
    "        gradient += (sigmod(s) * (-y[[row,]] * x[[row,]]))\n",
    "    return gradient/x.shape[0]\n",
    "\n",
    "# sgd (隨便取個row出來做gradient)\n",
    "def stochastic_gradient_descent(x, y, w, row):\n",
    "    s = -y[[row,]] * np.dot(np.transpose(w), np.transpose(x[[row,]]))\n",
    "    gradient = (sigmod(s) * (-y[[row,]] * x[[row,]]))\n",
    "    return gradient\n",
    "    \n",
    "\n",
    "def sign(x):\n",
    "    if x < 0:\n",
    "        return -1\n",
    "    return 1\n",
    "\n",
    "def e_out_measure(w, x, y):\n",
    "    error = 0\n",
    "    for row in range(y.shape[0]):\n",
    "        if sign(np.dot(np.transpose(w), np.transpose(x[[row,]]))) != y[[row,]]:\n",
    "            error += 1\n",
    "    print(error/y_test.shape[0])"
   ]
  },
  {
   "cell_type": "code",
   "execution_count": 12,
   "metadata": {
    "pycharm": {
     "name": "#%%\n"
    }
   },
   "outputs": [
    {
     "name": "stdout",
     "output_type": "stream",
     "text": [
      "w_0001 = [[-0.01106136]\n",
      " [ 0.04234835]\n",
      " [-0.03109114]\n",
      " [ 0.0165552 ]\n",
      " [-0.03514716]\n",
      " [ 0.01407574]\n",
      " [ 0.049675  ]\n",
      " [-0.02056954]\n",
      " [ 0.02630158]\n",
      " [ 0.07051782]\n",
      " [ 0.02089157]\n",
      " [-0.01836243]\n",
      " [-0.00716701]\n",
      " [ 0.04758432]\n",
      " [ 0.05944894]\n",
      " [ 0.06276506]\n",
      " [-0.04569257]\n",
      " [ 0.06224517]\n",
      " [-0.01461797]\n",
      " [-0.03329689]]\n",
      "w_001 = [[-0.18939478]\n",
      " [ 0.26593156]\n",
      " [-0.35382514]\n",
      " [ 0.04066458]\n",
      " [-0.37976253]\n",
      " [ 0.01954328]\n",
      " [ 0.33365205]\n",
      " [-0.26415962]\n",
      " [ 0.13465748]\n",
      " [ 0.49115247]\n",
      " [ 0.0870017 ]\n",
      " [-0.25574013]\n",
      " [-0.16317915]\n",
      " [ 0.30043823]\n",
      " [ 0.39986173]\n",
      " [ 0.43193814]\n",
      " [-0.46251163]\n",
      " [ 0.43202779]\n",
      " [-0.20813247]\n",
      " [-0.3696613 ]]\n",
      "w_sdg = [[ 0.00823122]\n",
      " [ 0.04337962]\n",
      " [-0.02166426]\n",
      " [ 0.02421435]\n",
      " [-0.02322926]\n",
      " [ 0.023214  ]\n",
      " [ 0.05511278]\n",
      " [-0.00229894]\n",
      " [ 0.03627058]\n",
      " [ 0.07694393]\n",
      " [ 0.02866946]\n",
      " [-0.02097466]\n",
      " [-0.01387082]\n",
      " [ 0.05226476]\n",
      " [ 0.06489409]\n",
      " [ 0.07146909]\n",
      " [-0.04026615]\n",
      " [ 0.06410074]\n",
      " [-0.01145231]\n",
      " [-0.01616059]]\n",
      "0.4716666666666667\n",
      "0.22066666666666668\n",
      "0.477\n"
     ]
    }
   ],
   "source": [
    "# normal gradient decent\n",
    "w_0001 = np.zeros((X_train.shape[1], 1))\n",
    "w_001 = np.zeros((X_train.shape[1], 1))\n",
    "w_sdg = np.zeros((X_train.shape[1], 1))\n",
    "\n",
    "times = 2000\n",
    "eta_0001 = 0.001\n",
    "eta_001 = 0.01\n",
    "for time in range(times):\n",
    "    gradient_0001 = gradient_descent(X_train, y_train, w_0001)\n",
    "    gradient_001 = gradient_descent(X_train, y_train, w_001)\n",
    "    w_0001 = w_0001 - eta_0001 * np.transpose(gradient_0001)\n",
    "    w_001 = w_001 - eta_001 * np.transpose(gradient_001)\n",
    "\n",
    "    index_sdg = random.randint(0, X_train.shape[0]-1)\n",
    "    gradient_sdg = stochastic_gradient_descent(X_train, y_train, w_sdg, index_sdg)\n",
    "    w_sdg = w_sdg - eta_0001 * np.transpose(gradient_sdg)\n",
    "        \n",
    "print(\"w_0001 = \" + str(w_0001))\n",
    "print(\"w_001 = \" + str(w_001))\n",
    "print(\"w_sdg = \" + str(w_sdg))\n",
    "\n",
    "# q18的答案 0.4716\n",
    "e_out_measure(w_0001, X_test, y_test)\n",
    "\n",
    "# q19的答案 0.220\n",
    "e_out_measure(w_001, X_test, y_test)\n",
    "\n",
    "# q20的答案 0.477\n",
    "e_out_measure(w_sdg, X_test, y_test)"
   ]
  },
  {
   "cell_type": "code",
   "execution_count": 12,
   "metadata": {},
   "outputs": [],
   "source": []
  }
 ],
 "metadata": {
  "kernelspec": {
   "display_name": "Python 3",
   "language": "python",
   "name": "python3"
  },
  "language_info": {
   "codemirror_mode": {
    "name": "ipython",
    "version": 3
   },
   "file_extension": ".py",
   "mimetype": "text/x-python",
   "name": "python",
   "nbconvert_exporter": "python",
   "pygments_lexer": "ipython3",
   "version": "3.9.2"
  }
 },
 "nbformat": 4,
 "nbformat_minor": 1
}