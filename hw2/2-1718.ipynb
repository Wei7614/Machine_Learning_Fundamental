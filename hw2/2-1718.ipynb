{
 "cells": [
  {
   "cell_type": "code",
   "execution_count": 1,
   "metadata": {},
   "outputs": [],
   "source": [
    "import math\n",
    "import numpy.random as random\n",
    "import numpy as np\n",
    "\n",
    "# y = f(x) = sign(x) + noise -> y 等於 對x取符號（+- 1）加上雜訊 \n",
    "# 雜訊為翻轉20%的資料\n",
    "\n",
    "# 定義sign\n",
    "def sign(value):\n",
    "    return -1 if value <= 0 else 1\n",
    "\n",
    "# 取得有雜音的y\n",
    "def get_noised_y(x, noise_rate):\n",
    "    y = np.ones(x.shape)\n",
    "    for idx, value in enumerate(x):\n",
    "        noise = (-1 if random.random() < noise_rate else 1)\n",
    "        value = sign(value) * noise\n",
    "        y[idx] = value\n",
    "    return y\n",
    "\n",
    "# 取得訓練的資料\n",
    "def get_training_data(data_size=20):\n",
    "    # 產生-1到1之間的隨機亂數\n",
    "    X = random.uniform(-1, 1, size=data_size)\n",
    "    \n",
    "    # 產生y\n",
    "    y = get_noised_y(X, 0.2)\n",
    "    \n",
    "    return (X, y)\n",
    "\n",
    "# decision stumps\n",
    "def get_hypotheis(s, x, theta):\n",
    "    h = np.zeros(x.shape)\n",
    "    for idx, value in enumerate(x):\n",
    "        h[idx] = s * sign(value - theta)\n",
    "    return h"
   ]
  },
  {
   "cell_type": "code",
   "execution_count": 2,
   "metadata": {},
   "outputs": [],
   "source": [
    "def get_thetas(x):\n",
    "    #在頭跟尾還有每個點的中間都放個theta\n",
    "    x = np.sort(x)\n",
    "    theta = np.zeros(x.shape[0] + 1)\n",
    "    theta[0] = -1\n",
    "    for idx in range(len(x) - 1):\n",
    "        theta[idx+1] = (x[idx] + x[idx+1])/2.\n",
    "    theta[len(x)] = 1\n",
    "    return theta\n"
   ]
  },
  {
   "cell_type": "code",
   "execution_count": 3,
   "metadata": {
    "pycharm": {
     "name": "#%%\n"
    }
   },
   "outputs": [
    {
     "name": "stdout",
     "output_type": "stream",
     "text": [
      "e_in = 0.17\n",
      "e_out = 0.26\n"
     ]
    }
   ],
   "source": [
    "exp_time = 5000\n",
    "e_in = 0   \n",
    "e_out = 0\n",
    "for exp_idx in range(exp_time):\n",
    "    X, y = get_training_data()\n",
    "    thetas = get_thetas(X)\n",
    "    e_in_plue_s = []\n",
    "    e_in_minus_s = []\n",
    "    for theta_idx, theta in enumerate(thetas):\n",
    "        # s = 1\n",
    "        h_plus_s = get_hypotheis(1, X, theta)\n",
    "        h_plus_s_diff = h_plus_s - y\n",
    "        # e_in = 將不同的row加起來取絕對值/(2*row的total數)\n",
    "        e_in_plue_s.append((np.sum(np.absolute(h_plus_s_diff))/(len(h_plus_s_diff) * 2.)))\n",
    "        \n",
    "        # s = -1\n",
    "        h_minus_s = get_hypotheis(-1, X, theta)\n",
    "        h_minus_diff = h_minus_s - y\n",
    "        e_in_minus_s.append((np.sum(np.absolute(h_minus_diff))/(len(h_minus_diff) * 2.)))\n",
    "    min_value = min(min(e_in_plue_s), min(e_in_minus_s))\n",
    "    theta = 0\n",
    "    s = 1\n",
    "    # 找出最小e_in的theta\n",
    "    if min_value in e_in_plue_s:\n",
    "        theta = thetas[e_in_plue_s.index(min_value)]\n",
    "    else:\n",
    "        s = -1\n",
    "        theta = thetas[e_in_minus_s.index(min_value)]\n",
    "    e_in += min_value\n",
    "    e_out += (0.5 + 0.3 * s * (abs(theta) - 1))\n",
    "\n",
    "print(\"e_in = \" + \"{:.2f}\".format(e_in/exp_time)) \n",
    "print(\"e_out = \" + \"{:.2f}\".format(e_out/exp_time))\n",
    "\n",
    "# e_in = 0.17\n",
    "# e_out = 0.26\n"
   ]
  }
 ],
 "metadata": {
  "kernelspec": {
   "display_name": "Python 3",
   "language": "python",
   "name": "python3"
  },
  "language_info": {
   "codemirror_mode": {
    "name": "ipython",
    "version": 3
   },
   "file_extension": ".py",
   "mimetype": "text/x-python",
   "name": "python",
   "nbconvert_exporter": "python",
   "pygments_lexer": "ipython3",
   "version": "3.8.2"
  }
 },
 "nbformat": 4,
 "nbformat_minor": 1
}