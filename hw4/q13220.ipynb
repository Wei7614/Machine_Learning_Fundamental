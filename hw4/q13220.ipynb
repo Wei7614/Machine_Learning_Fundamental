{
 "cells": [
  {
   "cell_type": "code",
   "execution_count": 1,
   "metadata": {},
   "outputs": [],
   "source": [
    "import numpy as np\n",
    "import sys\n",
    "\n",
    "train_data = np.loadtxt('./hw4_train.dat.txt')\n",
    "test_data = np.loadtxt('./hw4_test.dat.txt')"
   ]
  },
  {
   "cell_type": "code",
   "execution_count": 2,
   "metadata": {},
   "outputs": [
    {
     "name": "stdout",
     "output_type": "stream",
     "text": [
      "(200, 3) (200, 1)\n"
     ]
    }
   ],
   "source": [
    "def sign(x):\n",
    "    r = np.ones(x.shape)\n",
    "    for idx, value in enumerate(x):\n",
    "        r[idx] = (-1 if value < 0 else 1)\n",
    "    return r\n",
    "\n",
    "def get_dataset(x):\n",
    "    X = x[:, 0:x.shape[1]-1]\n",
    "    y = x[:, x.shape[1]-1: x.shape[1]]\n",
    "    X = np.concatenate((np.ones((X.shape[0],1)), X), axis=1)\n",
    "    return X,y\n",
    "\n",
    "X_train, y_train = get_dataset(train_data)\n",
    "X_test, y_test = get_dataset(test_data)\n",
    "\n",
    "print(X_train.shape, y_train.shape)"
   ]
  },
  {
   "cell_type": "code",
   "execution_count": 3,
   "metadata": {},
   "outputs": [],
   "source": [
    "def get_w_reg(x, y, lambda_reg):\n",
    "    # linear regression\n",
    "    # w_reg = (((x_tran*x + lambda * I)_inver)* x_tran) * y\n",
    "    #       (x_tran*x + lambda * I) = first_part\n",
    "    #       first_part_inver * x_tran = second_part\n",
    "    # w_reg = second_part * y\n",
    "    first_part = np.dot(np.transpose(x), x) + lambda_reg * np.eye(x.shape[1])\n",
    "    first_part_inver = np.linalg.inv(first_part)\n",
    "    second_part = np.dot(first_part_inver, np.transpose(x))\n",
    "    w_reg = np.dot(second_part, y)\n",
    "    return w_reg"
   ]
  },
  {
   "cell_type": "code",
   "execution_count": 4,
   "metadata": {},
   "outputs": [],
   "source": [
    "def get_error(x, y, w):\n",
    "    return float(np.sum(sign(np.dot(x, w)) != y))/x.shape[0]\n",
    "\n",
    "def q_13(lambda_reg = 10):\n",
    "    w = get_w_reg(X_train, y_train, lambda_reg)\n",
    "    e_in = get_error(X_train, y_train, w)\n",
    "    e_out = get_error(X_test, y_test, w)\n",
    "    return (e_in, e_out)"
   ]
  },
  {
   "cell_type": "code",
   "execution_count": 5,
   "metadata": {},
   "outputs": [],
   "source": [
    "def q_1415(is_q_15 = False):\n",
    "    e_in_min = 100\n",
    "    e_out_min = e_in_min\n",
    "    lambda_reg_min = 100\n",
    "    for log_lambda in range(2, -11, -1):\n",
    "        lambda_reg = 10 ** log_lambda\n",
    "        e_in, e_out = q_13(lambda_reg)\n",
    "        if is_q_15 is False:\n",
    "            if e_in < e_in_min:\n",
    "                e_in_min = e_in\n",
    "                e_out_min = e_out\n",
    "                lambda_reg_min = log_lambda\n",
    "        else:\n",
    "            if e_out < e_out_min:\n",
    "                e_in_min = e_in\n",
    "                e_out_min = e_out\n",
    "                lambda_reg_min = log_lambda\n",
    "        \n",
    "    return e_in_min, e_out_min, lambda_reg_min"
   ]
  },
  {
   "cell_type": "code",
   "execution_count": 6,
   "metadata": {},
   "outputs": [],
   "source": [
    "def q_161718(is_q_17=False, is_q_18 = False):\n",
    "    n_train = 120\n",
    "    _X_train = X_train[:n_train]\n",
    "    _y_train = y_train[:n_train]\n",
    "    if is_q_18:\n",
    "        _X_train = X_train\n",
    "        _y_train = y_train\n",
    "    X_val = X_train[n_train:]\n",
    "    y_val = y_train[n_train:]\n",
    "    e_in_min = 100\n",
    "    e_val_min = e_in_min\n",
    "    e_out_min = e_val_min\n",
    "    lambda_reg_min = e_out_min\n",
    "    for log_lambda in range(2, -11, -1):\n",
    "        lambda_reg = 10 ** log_lambda\n",
    "        w_reg = get_w_reg(_X_train, _y_train, lambda_reg)\n",
    "        e_in = get_error(X_train[:n_train], y_train[:n_train], w_reg)\n",
    "        e_val = get_error(X_val, y_val, w_reg)\n",
    "        e_out = get_error(X_test, y_test, w_reg)\n",
    "        if is_q_17 is False:\n",
    "            if e_in < e_in_min:\n",
    "                e_in_min = e_in\n",
    "                e_val_min = e_val\n",
    "                e_out_min = e_out\n",
    "                lambda_reg_min = log_lambda\n",
    "        else:\n",
    "            if e_val < e_val_min:\n",
    "                e_in_min = e_in\n",
    "                e_val_min = e_val\n",
    "                e_out_min = e_out\n",
    "                lambda_reg_min = log_lambda\n",
    "    return e_in_min, e_val_min, e_out_min, lambda_reg_min"
   ]
  },
  {
   "cell_type": "code",
   "execution_count": 7,
   "metadata": {},
   "outputs": [],
   "source": [
    "def get_cross_dataset(x, y, k):\n",
    "    try:\n",
    "        if k > 1:\n",
    "            n_dataset = int(x.shape[0]/k)\n",
    "            x_result = []\n",
    "            y_result = []\n",
    "            for idx in range(k):\n",
    "                r_init = n_dataset * idx\n",
    "                r_fin = r_init + n_dataset\n",
    "                x_result.append(x[r_init: r_fin])\n",
    "                y_result.append(y[r_init: r_fin])\n",
    "            return x_result, y_result\n",
    "        else:\n",
    "            raise ValueError(\"k must greater that 1\")\n",
    "    except ValueError:\n",
    "        raise\n",
    "\n",
    "def q_1920():\n",
    "    # k cross validatioin\n",
    "    x_datasets, y_datasets = get_cross_dataset(X_train, y_train, 5)\n",
    "    \n",
    "    e_val_min = 100000\n",
    "    lambda_reg_min = e_val_min\n",
    "    \n",
    "    for log_lambda in range(2, -11, -1):\n",
    "        lambda_reg = 10 ** log_lambda\n",
    "        current_val_idx = 0\n",
    "        e_val = 0\n",
    "        while current_val_idx < len(x_datasets):\n",
    "            _x_train = None\n",
    "            _y_train = None\n",
    "            _x_val = None\n",
    "            _y_val = None\n",
    "            for idx, value in enumerate(x_datasets):\n",
    "                if idx != current_val_idx:\n",
    "                    # 拿來訓練\n",
    "                    if _x_train is None:\n",
    "                        _x_train = value\n",
    "                        _y_train = y_datasets[idx]\n",
    "                    else:\n",
    "                        _x_train = np.vstack((_x_train, value))\n",
    "                        _y_train = np.vstack((_y_train, y_datasets[idx]))\n",
    "                else:\n",
    "                    # 拿來validation\n",
    "                    _x_val = value\n",
    "                    _y_val = y_datasets[idx]\n",
    "            w_reg = get_w_reg(_x_train, _y_train, lambda_reg)\n",
    "            # 算每一輪e_val的加總\n",
    "            e_val += get_error(_x_val, _y_val, w_reg)  \n",
    "            current_val_idx += 1\n",
    "        # 然後再取平均\n",
    "        e_val_avg = e_val/len(x_datasets)\n",
    "        \n",
    "        # 找出最小的\n",
    "        if e_val_avg < e_val_min:\n",
    "            e_val_min = e_val_avg\n",
    "            lambda_reg_min = log_lambda\n",
    "    return e_val_min, lambda_reg_min"
   ]
  },
  {
   "cell_type": "code",
   "execution_count": 8,
   "metadata": {},
   "outputs": [
    {
     "name": "stdout",
     "output_type": "stream",
     "text": [
      "q13\n",
      "0.05 0.045\n",
      "\n",
      "q14\n",
      "-8 0.015 0.02\n",
      "\n",
      "q15\n",
      "-7 0.03 0.015\n"
     ]
    }
   ],
   "source": [
    "print(\"q13\")\n",
    "e_in, e_out = q_13()\n",
    "print(e_in, e_out)\n",
    "# q13的答案 e_in = 0.05, e_out = 0.045\n",
    "print(\"\")\n",
    "print(\"q14\")\n",
    "e_in, e_out, lambda_reg = q_1415()\n",
    "print(lambda_reg, e_in, e_out)\n",
    "# q_14 -> lamba = -8 e_in = 0.015, e_out = 0.02\n",
    "print(\"\")\n",
    "print(\"q15\")\n",
    "e_in, e_out, lambda_reg = q_1415(True)\n",
    "print(lambda_reg, e_in, e_out)\n",
    "# q_15 -> lamba = -7 e_in =. 0.03, e_out = 0.015"
   ]
  },
  {
   "cell_type": "code",
   "execution_count": 9,
   "metadata": {},
   "outputs": [
    {
     "name": "stdout",
     "output_type": "stream",
     "text": [
      "q16\n",
      "-8 0.0 0.05 0.025\n",
      "\n",
      "q17\n",
      "0 0.03333333333333333 0.0375 0.028\n",
      "\n",
      "q18\n",
      "0.03333333333333333 0.016\n"
     ]
    }
   ],
   "source": [
    "print(\"q16\")\n",
    "e_in, e_val, e_out, lambda_reg = q_161718()\n",
    "print(lambda_reg, e_in, e_val, e_out)\n",
    "# q_16 -> lamba = -8 e_in =. 0.0, e_val = 0.05, e_out = 0.025\n",
    "print(\"\")\n",
    "print(\"q17\")\n",
    "e_in, e_val, e_out, lambda_reg = q_161718(True)\n",
    "print(lambda_reg, e_in, e_val, e_out)\n",
    "# q_17 -> lamba = 0 e_in =. 0.03, e_val = 0.038, e_out = 0.028\n",
    "print(\"\")\n",
    "print(\"q18\")\n",
    "e_in, e_val, e_out, lambda_reg = q_161718(True, True)\n",
    "print(e_in, e_out)\n",
    "# q_18 -> e_in =. 0.035, e_out = 0.02"
   ]
  },
  {
   "cell_type": "code",
   "execution_count": 10,
   "metadata": {},
   "outputs": [
    {
     "name": "stdout",
     "output_type": "stream",
     "text": [
      "q19\n",
      "-8 0.03\n",
      "\n",
      "q20\n",
      "0.015 0.02\n"
     ]
    }
   ],
   "source": [
    "print(\"q19\")\n",
    "e_cv, lambda_reg = q_1920()\n",
    "print(lambda_reg, e_cv)\n",
    "# q_19 -> lambda = -8, e_cv = 0.03\n",
    "print(\"\")\n",
    "print(\"q20\")\n",
    "e_in, e_out = q_13(10**lambda_reg)\n",
    "print(e_in, e_out)\n",
    "# q_20 -> e_in = 0.015, e_out = 0.02"
   ]
  }
 ],
 "metadata": {
  "kernelspec": {
   "display_name": "Python 3",
   "language": "python",
   "name": "python3"
  },
  "language_info": {
   "codemirror_mode": {
    "name": "ipython",
    "version": 3
   },
   "file_extension": ".py",
   "mimetype": "text/x-python",
   "name": "python",
   "nbconvert_exporter": "python",
   "pygments_lexer": "ipython3",
   "version": "3.9.2"
  }
 },
 "nbformat": 4,
 "nbformat_minor": 1
}
